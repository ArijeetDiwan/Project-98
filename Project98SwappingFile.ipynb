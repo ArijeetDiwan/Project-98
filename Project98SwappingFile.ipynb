{
  "nbformat": 4,
  "nbformat_minor": 0,
  "metadata": {
    "colab": {
      "name": "Project98SwappingFile.ipynb",
      "provenance": [],
      "collapsed_sections": [],
      "authorship_tag": "ABX9TyNreKQX9SnXRmvUfeoFu+ni",
      "include_colab_link": true
    },
    "kernelspec": {
      "name": "python3",
      "display_name": "Python 3"
    },
    "language_info": {
      "name": "python"
    }
  },
  "cells": [
    {
      "cell_type": "markdown",
      "metadata": {
        "id": "view-in-github",
        "colab_type": "text"
      },
      "source": [
        "<a href=\"https://colab.research.google.com/github/ArijeetDiwan/Project-98/blob/main/Project98SwappingFile.ipynb\" target=\"_parent\"><img src=\"https://colab.research.google.com/assets/colab-badge.svg\" alt=\"Open In Colab\"/></a>"
      ]
    },
    {
      "cell_type": "markdown",
      "metadata": {
        "id": "SrZiEta0Q0J8"
      },
      "source": [
        ""
      ]
    },
    {
      "cell_type": "code",
      "metadata": {
        "id": "GcnHIlvePzs_"
      },
      "source": [
        "with open(\"Sample1.txt\", 'r') as a:\n",
        "     data_a = a.read()\n",
        "with open(\"Sample2.txt\", 'r') as b:\n",
        "    data_b = b.read()\n",
        "with open(\"Sample1.txt\", 'w') as a:\n",
        "    a.write(data_b)\n",
        "with open(\"Sample2.txt\", 'w') as b:\n",
        "    b.write(data_a)\n"
      ],
      "execution_count": 1,
      "outputs": []
    }
  ]
}